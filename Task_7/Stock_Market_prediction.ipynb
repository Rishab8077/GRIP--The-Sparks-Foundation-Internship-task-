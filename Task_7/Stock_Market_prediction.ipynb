{
 "cells": [
  {
   "cell_type": "markdown",
   "id": "eab595be",
   "metadata": {},
   "source": [
    "## Stock Market Prediction using Numerical and Textual Analysis"
   ]
  },
  {
   "cell_type": "markdown",
   "id": "d624830b",
   "metadata": {},
   "source": [
    "# Tasks\n",
    "### To create a hybrid model for stock price/performance prediction using numerical analysis of historical stock prices and sentimental analysis of new headlines "
   ]
  },
  {
   "cell_type": "code",
   "execution_count": 1,
   "id": "7bbb3709",
   "metadata": {},
   "outputs": [
    {
     "name": "stderr",
     "output_type": "stream",
     "text": [
      "C:\\Users\\Dell\\anaconda3\\envs\\GRIP- The Sparks Foundation\\lib\\site-packages\\IPython\\core\\interactiveshell.py:3444: DtypeWarning: Columns (0) have mixed types.Specify dtype option on import or set low_memory=False.\n",
      "  exec(code_obj, self.user_global_ns, self.user_ns)\n"
     ]
    },
    {
     "data": {
      "text/html": [
       "<div>\n",
       "<style scoped>\n",
       "    .dataframe tbody tr th:only-of-type {\n",
       "        vertical-align: middle;\n",
       "    }\n",
       "\n",
       "    .dataframe tbody tr th {\n",
       "        vertical-align: top;\n",
       "    }\n",
       "\n",
       "    .dataframe thead th {\n",
       "        text-align: right;\n",
       "    }\n",
       "</style>\n",
       "<table border=\"1\" class=\"dataframe\">\n",
       "  <thead>\n",
       "    <tr style=\"text-align: right;\">\n",
       "      <th></th>\n",
       "      <th>Date</th>\n",
       "      <th>Category</th>\n",
       "      <th>News</th>\n",
       "    </tr>\n",
       "  </thead>\n",
       "  <tbody>\n",
       "    <tr>\n",
       "      <th>0</th>\n",
       "      <td>publish_date</td>\n",
       "      <td>headline_category</td>\n",
       "      <td>headline_text</td>\n",
       "    </tr>\n",
       "    <tr>\n",
       "      <th>1</th>\n",
       "      <td>20010102</td>\n",
       "      <td>unknown</td>\n",
       "      <td>Status quo will not be disturbed at Ayodhya; s...</td>\n",
       "    </tr>\n",
       "    <tr>\n",
       "      <th>2</th>\n",
       "      <td>20010102</td>\n",
       "      <td>unknown</td>\n",
       "      <td>Fissures in Hurriyat over Pak visit</td>\n",
       "    </tr>\n",
       "    <tr>\n",
       "      <th>3</th>\n",
       "      <td>20010102</td>\n",
       "      <td>unknown</td>\n",
       "      <td>America's unwanted heading for India?</td>\n",
       "    </tr>\n",
       "    <tr>\n",
       "      <th>4</th>\n",
       "      <td>20010102</td>\n",
       "      <td>unknown</td>\n",
       "      <td>For bigwigs; it is destination Goa</td>\n",
       "    </tr>\n",
       "  </tbody>\n",
       "</table>\n",
       "</div>"
      ],
      "text/plain": [
       "           Date           Category  \\\n",
       "0  publish_date  headline_category   \n",
       "1      20010102            unknown   \n",
       "2      20010102            unknown   \n",
       "3      20010102            unknown   \n",
       "4      20010102            unknown   \n",
       "\n",
       "                                                News  \n",
       "0                                      headline_text  \n",
       "1  Status quo will not be disturbed at Ayodhya; s...  \n",
       "2                Fissures in Hurriyat over Pak visit  \n",
       "3              America's unwanted heading for India?  \n",
       "4                 For bigwigs; it is destination Goa  "
      ]
     },
     "execution_count": 1,
     "metadata": {},
     "output_type": "execute_result"
    }
   ],
   "source": [
    "import pandas as pd\n",
    "from datetime import datetime\n",
    "columns=['Date','Category','News']\n",
    "ndf = pd.read_csv('india-news-headlines.csv',names=columns)\n",
    "ndf.head()"
   ]
  },
  {
   "cell_type": "code",
   "execution_count": 2,
   "id": "b113c75c",
   "metadata": {},
   "outputs": [
    {
     "data": {
      "text/html": [
       "<div>\n",
       "<style scoped>\n",
       "    .dataframe tbody tr th:only-of-type {\n",
       "        vertical-align: middle;\n",
       "    }\n",
       "\n",
       "    .dataframe tbody tr th {\n",
       "        vertical-align: top;\n",
       "    }\n",
       "\n",
       "    .dataframe thead th {\n",
       "        text-align: right;\n",
       "    }\n",
       "</style>\n",
       "<table border=\"1\" class=\"dataframe\">\n",
       "  <thead>\n",
       "    <tr style=\"text-align: right;\">\n",
       "      <th></th>\n",
       "      <th>Date</th>\n",
       "      <th>News</th>\n",
       "    </tr>\n",
       "  </thead>\n",
       "  <tbody>\n",
       "    <tr>\n",
       "      <th>1</th>\n",
       "      <td>20010102</td>\n",
       "      <td>Status quo will not be disturbed at Ayodhya; s...</td>\n",
       "    </tr>\n",
       "    <tr>\n",
       "      <th>2</th>\n",
       "      <td>20010102</td>\n",
       "      <td>Fissures in Hurriyat over Pak visit</td>\n",
       "    </tr>\n",
       "    <tr>\n",
       "      <th>3</th>\n",
       "      <td>20010102</td>\n",
       "      <td>America's unwanted heading for India?</td>\n",
       "    </tr>\n",
       "    <tr>\n",
       "      <th>4</th>\n",
       "      <td>20010102</td>\n",
       "      <td>For bigwigs; it is destination Goa</td>\n",
       "    </tr>\n",
       "    <tr>\n",
       "      <th>5</th>\n",
       "      <td>20010102</td>\n",
       "      <td>Extra buses to clear tourist traffic</td>\n",
       "    </tr>\n",
       "  </tbody>\n",
       "</table>\n",
       "</div>"
      ],
      "text/plain": [
       "       Date                                               News\n",
       "1  20010102  Status quo will not be disturbed at Ayodhya; s...\n",
       "2  20010102                Fissures in Hurriyat over Pak visit\n",
       "3  20010102              America's unwanted heading for India?\n",
       "4  20010102                 For bigwigs; it is destination Goa\n",
       "5  20010102               Extra buses to clear tourist traffic"
      ]
     },
     "execution_count": 2,
     "metadata": {},
     "output_type": "execute_result"
    }
   ],
   "source": [
    "ndf.drop(0 ,inplace=True)\n",
    "ndf.drop('Category',axis =1,inplace = True)\n",
    "ndf.head()"
   ]
  },
  {
   "cell_type": "code",
   "execution_count": 3,
   "id": "a7534ce8",
   "metadata": {},
   "outputs": [
    {
     "name": "stdout",
     "output_type": "stream",
     "text": [
      "<class 'pandas.core.frame.DataFrame'>\n",
      "Int64Index: 3424067 entries, 1 to 3424067\n",
      "Data columns (total 2 columns):\n",
      " #   Column  Dtype \n",
      "---  ------  ----- \n",
      " 0   Date    object\n",
      " 1   News    object\n",
      "dtypes: object(2)\n",
      "memory usage: 78.4+ MB\n"
     ]
    }
   ],
   "source": [
    "ndf.info()"
   ]
  },
  {
   "cell_type": "code",
   "execution_count": 4,
   "id": "d9679d44",
   "metadata": {},
   "outputs": [
    {
     "name": "stdout",
     "output_type": "stream",
     "text": [
      "<class 'pandas.core.frame.DataFrame'>\n",
      "Int64Index: 3424067 entries, 1 to 3424067\n",
      "Data columns (total 2 columns):\n",
      " #   Column  Dtype         \n",
      "---  ------  -----         \n",
      " 0   Date    datetime64[ns]\n",
      " 1   News    object        \n",
      "dtypes: datetime64[ns](1), object(1)\n",
      "memory usage: 78.4+ MB\n"
     ]
    }
   ],
   "source": [
    "# changing date time type \n",
    "ndf['Date']=pd.to_datetime(ndf['Date'],format ='%Y%m%d')\n",
    "ndf.info()"
   ]
  },
  {
   "cell_type": "code",
   "execution_count": 5,
   "id": "d01f06ac",
   "metadata": {},
   "outputs": [
    {
     "data": {
      "text/html": [
       "<div>\n",
       "<style scoped>\n",
       "    .dataframe tbody tr th:only-of-type {\n",
       "        vertical-align: middle;\n",
       "    }\n",
       "\n",
       "    .dataframe tbody tr th {\n",
       "        vertical-align: top;\n",
       "    }\n",
       "\n",
       "    .dataframe thead th {\n",
       "        text-align: right;\n",
       "    }\n",
       "</style>\n",
       "<table border=\"1\" class=\"dataframe\">\n",
       "  <thead>\n",
       "    <tr style=\"text-align: right;\">\n",
       "      <th></th>\n",
       "      <th>Date</th>\n",
       "      <th>News</th>\n",
       "    </tr>\n",
       "  </thead>\n",
       "  <tbody>\n",
       "    <tr>\n",
       "      <th>1</th>\n",
       "      <td>2001-01-02</td>\n",
       "      <td>Status quo will not be disturbed at Ayodhya; s...</td>\n",
       "    </tr>\n",
       "    <tr>\n",
       "      <th>2</th>\n",
       "      <td>2001-01-02</td>\n",
       "      <td>Fissures in Hurriyat over Pak visit</td>\n",
       "    </tr>\n",
       "    <tr>\n",
       "      <th>3</th>\n",
       "      <td>2001-01-02</td>\n",
       "      <td>America's unwanted heading for India?</td>\n",
       "    </tr>\n",
       "    <tr>\n",
       "      <th>4</th>\n",
       "      <td>2001-01-02</td>\n",
       "      <td>For bigwigs; it is destination Goa</td>\n",
       "    </tr>\n",
       "    <tr>\n",
       "      <th>5</th>\n",
       "      <td>2001-01-02</td>\n",
       "      <td>Extra buses to clear tourist traffic</td>\n",
       "    </tr>\n",
       "    <tr>\n",
       "      <th>...</th>\n",
       "      <td>...</td>\n",
       "      <td>...</td>\n",
       "    </tr>\n",
       "    <tr>\n",
       "      <th>3424063</th>\n",
       "      <td>2020-12-31</td>\n",
       "      <td>Covid-19: Despite dip in cases; Rajasthan amon...</td>\n",
       "    </tr>\n",
       "    <tr>\n",
       "      <th>3424064</th>\n",
       "      <td>2020-12-31</td>\n",
       "      <td>Covid-19: Despite dip in cases; Rajasthan amon...</td>\n",
       "    </tr>\n",
       "    <tr>\n",
       "      <th>3424065</th>\n",
       "      <td>2020-12-31</td>\n",
       "      <td>Covid-19: Despite dip in cases; Rajasthan amon...</td>\n",
       "    </tr>\n",
       "    <tr>\n",
       "      <th>3424066</th>\n",
       "      <td>2020-12-31</td>\n",
       "      <td>Govt extends deadline for use of FASTag till F...</td>\n",
       "    </tr>\n",
       "    <tr>\n",
       "      <th>3424067</th>\n",
       "      <td>2020-12-31</td>\n",
       "      <td>Celebs plan to party safely and responsibly on...</td>\n",
       "    </tr>\n",
       "  </tbody>\n",
       "</table>\n",
       "<p>3424067 rows × 2 columns</p>\n",
       "</div>"
      ],
      "text/plain": [
       "              Date                                               News\n",
       "1       2001-01-02  Status quo will not be disturbed at Ayodhya; s...\n",
       "2       2001-01-02                Fissures in Hurriyat over Pak visit\n",
       "3       2001-01-02              America's unwanted heading for India?\n",
       "4       2001-01-02                 For bigwigs; it is destination Goa\n",
       "5       2001-01-02               Extra buses to clear tourist traffic\n",
       "...            ...                                                ...\n",
       "3424063 2020-12-31  Covid-19: Despite dip in cases; Rajasthan amon...\n",
       "3424064 2020-12-31  Covid-19: Despite dip in cases; Rajasthan amon...\n",
       "3424065 2020-12-31  Covid-19: Despite dip in cases; Rajasthan amon...\n",
       "3424066 2020-12-31  Govt extends deadline for use of FASTag till F...\n",
       "3424067 2020-12-31  Celebs plan to party safely and responsibly on...\n",
       "\n",
       "[3424067 rows x 2 columns]"
      ]
     },
     "execution_count": 5,
     "metadata": {},
     "output_type": "execute_result"
    }
   ],
   "source": [
    "ndf"
   ]
  },
  {
   "cell_type": "code",
   "execution_count": 6,
   "id": "0679958a",
   "metadata": {},
   "outputs": [],
   "source": [
    "# Group the headlines for each day\n",
    "ndf['News']=ndf.groupby(['Date']).transform(lambda x :' '.join(x))\n",
    "ndf = ndf.drop_duplicates()\n",
    "ndf.reset_index(inplace=True,drop=True)"
   ]
  },
  {
   "cell_type": "code",
   "execution_count": 7,
   "id": "e6563e90",
   "metadata": {},
   "outputs": [
    {
     "data": {
      "text/html": [
       "<div>\n",
       "<style scoped>\n",
       "    .dataframe tbody tr th:only-of-type {\n",
       "        vertical-align: middle;\n",
       "    }\n",
       "\n",
       "    .dataframe tbody tr th {\n",
       "        vertical-align: top;\n",
       "    }\n",
       "\n",
       "    .dataframe thead th {\n",
       "        text-align: right;\n",
       "    }\n",
       "</style>\n",
       "<table border=\"1\" class=\"dataframe\">\n",
       "  <thead>\n",
       "    <tr style=\"text-align: right;\">\n",
       "      <th></th>\n",
       "      <th>Date</th>\n",
       "      <th>News</th>\n",
       "    </tr>\n",
       "  </thead>\n",
       "  <tbody>\n",
       "    <tr>\n",
       "      <th>0</th>\n",
       "      <td>2001-01-02</td>\n",
       "      <td>Status quo will not be disturbed at Ayodhya; s...</td>\n",
       "    </tr>\n",
       "    <tr>\n",
       "      <th>1</th>\n",
       "      <td>2001-01-03</td>\n",
       "      <td>Powerless north India gropes in the dark Think...</td>\n",
       "    </tr>\n",
       "    <tr>\n",
       "      <th>2</th>\n",
       "      <td>2001-01-04</td>\n",
       "      <td>The string that pulled Stephen Hawking to Indi...</td>\n",
       "    </tr>\n",
       "    <tr>\n",
       "      <th>3</th>\n",
       "      <td>2001-01-05</td>\n",
       "      <td>Light combat craft takes India into club class...</td>\n",
       "    </tr>\n",
       "    <tr>\n",
       "      <th>4</th>\n",
       "      <td>2001-01-06</td>\n",
       "      <td>Light combat craft takes India into club class...</td>\n",
       "    </tr>\n",
       "    <tr>\n",
       "      <th>...</th>\n",
       "      <td>...</td>\n",
       "      <td>...</td>\n",
       "    </tr>\n",
       "    <tr>\n",
       "      <th>7257</th>\n",
       "      <td>2020-12-27</td>\n",
       "      <td>#BigInterview! Dhritiman Chatterjee: Nobody da...</td>\n",
       "    </tr>\n",
       "    <tr>\n",
       "      <th>7258</th>\n",
       "      <td>2020-12-28</td>\n",
       "      <td>Horoscope Today; 28 December 2020: Check astro...</td>\n",
       "    </tr>\n",
       "    <tr>\n",
       "      <th>7259</th>\n",
       "      <td>2020-12-29</td>\n",
       "      <td>Man recovers charred remains of 'thief' from h...</td>\n",
       "    </tr>\n",
       "    <tr>\n",
       "      <th>7260</th>\n",
       "      <td>2020-12-30</td>\n",
       "      <td>Numerology Readings 30 December 2020: Predicti...</td>\n",
       "    </tr>\n",
       "    <tr>\n",
       "      <th>7261</th>\n",
       "      <td>2020-12-31</td>\n",
       "      <td>Horoscope Today; 31 December 2020: Check astro...</td>\n",
       "    </tr>\n",
       "  </tbody>\n",
       "</table>\n",
       "<p>7262 rows × 2 columns</p>\n",
       "</div>"
      ],
      "text/plain": [
       "           Date                                               News\n",
       "0    2001-01-02  Status quo will not be disturbed at Ayodhya; s...\n",
       "1    2001-01-03  Powerless north India gropes in the dark Think...\n",
       "2    2001-01-04  The string that pulled Stephen Hawking to Indi...\n",
       "3    2001-01-05  Light combat craft takes India into club class...\n",
       "4    2001-01-06  Light combat craft takes India into club class...\n",
       "...         ...                                                ...\n",
       "7257 2020-12-27  #BigInterview! Dhritiman Chatterjee: Nobody da...\n",
       "7258 2020-12-28  Horoscope Today; 28 December 2020: Check astro...\n",
       "7259 2020-12-29  Man recovers charred remains of 'thief' from h...\n",
       "7260 2020-12-30  Numerology Readings 30 December 2020: Predicti...\n",
       "7261 2020-12-31  Horoscope Today; 31 December 2020: Check astro...\n",
       "\n",
       "[7262 rows x 2 columns]"
      ]
     },
     "execution_count": 7,
     "metadata": {},
     "output_type": "execute_result"
    }
   ],
   "source": [
    "ndf"
   ]
  },
  {
   "cell_type": "code",
   "execution_count": 8,
   "id": "95e5a16b",
   "metadata": {},
   "outputs": [
    {
     "data": {
      "text/plain": [
       "(7262, 2)"
      ]
     },
     "execution_count": 8,
     "metadata": {},
     "output_type": "execute_result"
    }
   ],
   "source": [
    "ndf.shape"
   ]
  },
  {
   "cell_type": "code",
   "execution_count": 9,
   "id": "369e2422",
   "metadata": {},
   "outputs": [
    {
     "data": {
      "text/html": [
       "<div>\n",
       "<style scoped>\n",
       "    .dataframe tbody tr th:only-of-type {\n",
       "        vertical-align: middle;\n",
       "    }\n",
       "\n",
       "    .dataframe tbody tr th {\n",
       "        vertical-align: top;\n",
       "    }\n",
       "\n",
       "    .dataframe thead th {\n",
       "        text-align: right;\n",
       "    }\n",
       "</style>\n",
       "<table border=\"1\" class=\"dataframe\">\n",
       "  <thead>\n",
       "    <tr style=\"text-align: right;\">\n",
       "      <th></th>\n",
       "      <th>Date</th>\n",
       "      <th>Open</th>\n",
       "      <th>High</th>\n",
       "      <th>Low</th>\n",
       "      <th>Close</th>\n",
       "      <th>Adj Close</th>\n",
       "      <th>Volume</th>\n",
       "    </tr>\n",
       "  </thead>\n",
       "  <tbody>\n",
       "    <tr>\n",
       "      <th>0</th>\n",
       "      <td>2019-12-17</td>\n",
       "      <td>41052.359375</td>\n",
       "      <td>41401.648438</td>\n",
       "      <td>41005.179688</td>\n",
       "      <td>41352.171875</td>\n",
       "      <td>41352.171875</td>\n",
       "      <td>19000.0</td>\n",
       "    </tr>\n",
       "    <tr>\n",
       "      <th>1</th>\n",
       "      <td>2019-12-18</td>\n",
       "      <td>41442.750000</td>\n",
       "      <td>41614.769531</td>\n",
       "      <td>41358.468750</td>\n",
       "      <td>41558.570313</td>\n",
       "      <td>41558.570313</td>\n",
       "      <td>24300.0</td>\n",
       "    </tr>\n",
       "    <tr>\n",
       "      <th>2</th>\n",
       "      <td>2019-12-19</td>\n",
       "      <td>41571.820313</td>\n",
       "      <td>41719.289063</td>\n",
       "      <td>41456.398438</td>\n",
       "      <td>41673.921875</td>\n",
       "      <td>41673.921875</td>\n",
       "      <td>33300.0</td>\n",
       "    </tr>\n",
       "    <tr>\n",
       "      <th>3</th>\n",
       "      <td>2019-12-20</td>\n",
       "      <td>41746.199219</td>\n",
       "      <td>41809.960938</td>\n",
       "      <td>41636.109375</td>\n",
       "      <td>41681.539063</td>\n",
       "      <td>41681.539063</td>\n",
       "      <td>33600.0</td>\n",
       "    </tr>\n",
       "    <tr>\n",
       "      <th>4</th>\n",
       "      <td>2019-12-23</td>\n",
       "      <td>41548.261719</td>\n",
       "      <td>41701.621094</td>\n",
       "      <td>41474.609375</td>\n",
       "      <td>41642.660156</td>\n",
       "      <td>41642.660156</td>\n",
       "      <td>6200.0</td>\n",
       "    </tr>\n",
       "  </tbody>\n",
       "</table>\n",
       "</div>"
      ],
      "text/plain": [
       "         Date          Open          High           Low         Close  \\\n",
       "0  2019-12-17  41052.359375  41401.648438  41005.179688  41352.171875   \n",
       "1  2019-12-18  41442.750000  41614.769531  41358.468750  41558.570313   \n",
       "2  2019-12-19  41571.820313  41719.289063  41456.398438  41673.921875   \n",
       "3  2019-12-20  41746.199219  41809.960938  41636.109375  41681.539063   \n",
       "4  2019-12-23  41548.261719  41701.621094  41474.609375  41642.660156   \n",
       "\n",
       "      Adj Close   Volume  \n",
       "0  41352.171875  19000.0  \n",
       "1  41558.570313  24300.0  \n",
       "2  41673.921875  33300.0  \n",
       "3  41681.539063  33600.0  \n",
       "4  41642.660156   6200.0  "
      ]
     },
     "execution_count": 9,
     "metadata": {},
     "output_type": "execute_result"
    }
   ],
   "source": [
    "hisdf = pd.read_csv('BSESN.csv')\n",
    "hisdf.head()"
   ]
  },
  {
   "cell_type": "code",
   "execution_count": 10,
   "id": "c98e7eea",
   "metadata": {},
   "outputs": [
    {
     "name": "stdout",
     "output_type": "stream",
     "text": [
      "<class 'pandas.core.frame.DataFrame'>\n",
      "RangeIndex: 252 entries, 0 to 251\n",
      "Data columns (total 7 columns):\n",
      " #   Column     Non-Null Count  Dtype  \n",
      "---  ------     --------------  -----  \n",
      " 0   Date       252 non-null    object \n",
      " 1   Open       250 non-null    float64\n",
      " 2   High       250 non-null    float64\n",
      " 3   Low        250 non-null    float64\n",
      " 4   Close      250 non-null    float64\n",
      " 5   Adj Close  250 non-null    float64\n",
      " 6   Volume     250 non-null    float64\n",
      "dtypes: float64(6), object(1)\n",
      "memory usage: 13.9+ KB\n"
     ]
    }
   ],
   "source": [
    "hisdf.info()"
   ]
  },
  {
   "cell_type": "code",
   "execution_count": 11,
   "id": "10c7b0d5",
   "metadata": {},
   "outputs": [
    {
     "name": "stdout",
     "output_type": "stream",
     "text": [
      "<class 'pandas.core.frame.DataFrame'>\n",
      "RangeIndex: 252 entries, 0 to 251\n",
      "Data columns (total 7 columns):\n",
      " #   Column     Non-Null Count  Dtype         \n",
      "---  ------     --------------  -----         \n",
      " 0   Date       252 non-null    datetime64[ns]\n",
      " 1   Open       250 non-null    float64       \n",
      " 2   High       250 non-null    float64       \n",
      " 3   Low        250 non-null    float64       \n",
      " 4   Close      250 non-null    float64       \n",
      " 5   Adj Close  250 non-null    float64       \n",
      " 6   Volume     250 non-null    float64       \n",
      "dtypes: datetime64[ns](1), float64(6)\n",
      "memory usage: 13.9 KB\n"
     ]
    }
   ],
   "source": [
    "hisdf['Date']=pd.to_datetime(hisdf['Date'])\n",
    "hisdf.info()"
   ]
  },
  {
   "cell_type": "code",
   "execution_count": 12,
   "id": "7ed404fc",
   "metadata": {},
   "outputs": [],
   "source": [
    "hisdf.drop('Adj Close',axis = 1,inplace=True)"
   ]
  },
  {
   "cell_type": "code",
   "execution_count": 13,
   "id": "5a9362f1",
   "metadata": {},
   "outputs": [
    {
     "data": {
      "image/png": "[encoded data removed]",
      "text/plain": [
       "<Figure size 1080x504 with 1 Axes>"
      ]
     },
     "metadata": {
      "needs_background": "light"
     },
     "output_type": "display_data"
    }
   ],
   "source": [
    "import matplotlib.pyplot as plt\n",
    "plt.figure(figsize=(15,7))\n",
    "plt.plot(hisdf['Close'])\n",
    "plt.ylabel('BSESN')\n",
    "plt.show()"
   ]
  },
  {
   "cell_type": "code",
   "execution_count": 14,
   "id": "6976a372",
   "metadata": {},
   "outputs": [
    {
     "name": "stderr",
     "output_type": "stream",
     "text": [
      "C:\\Users\\Dell\\anaconda3\\envs\\GRIP- The Sparks Foundation\\lib\\site-packages\\pandas\\core\\frame.py:5238: SettingWithCopyWarning: \n",
      "A value is trying to be set on a copy of a slice from a DataFrame\n",
      "\n",
      "See the caveats in the documentation: https://pandas.pydata.org/pandas-docs/stable/user_guide/indexing.html#returning-a-view-versus-a-copy\n",
      "  return super().replace(\n"
     ]
    },
    {
     "data": {
      "text/plain": [
       "0    Status quo will not be disturbed at Ayodhya; s...\n",
       "1    Powerless north India gropes in the dark Think...\n",
       "2    The string that pulled Stephen Hawking to Indi...\n",
       "3    Light combat craft takes India into club class...\n",
       "4    Light combat craft takes India into club class...\n",
       "Name: News, dtype: object"
      ]
     },
     "execution_count": 14,
     "metadata": {},
     "output_type": "execute_result"
    }
   ],
   "source": [
    "# Data cleaning from ndf\n",
    "# Removing unwanted characters \n",
    "ndf.replace(\"[^a -zA-Z']\",\" \",regex=True,inplace=True)\n",
    "ndf[\"News\"].head(5)"
   ]
  },
  {
   "cell_type": "markdown",
   "id": "02232d4c",
   "metadata": {},
   "source": [
    "### Plotting Moving Average"
   ]
  },
  {
   "cell_type": "code",
   "execution_count": 15,
   "id": "751c1107",
   "metadata": {},
   "outputs": [
    {
     "data": {
      "text/plain": [
       "<matplotlib.legend.Legend at 0x1fc88305ac0>"
      ]
     },
     "execution_count": 15,
     "metadata": {},
     "output_type": "execute_result"
    },
    {
     "data": {
      "image/png": "[encoded data removed]",
      "text/plain": [
       "<Figure size 1080x504 with 1 Axes>"
      ]
     },
     "metadata": {
      "needs_background": "light"
     },
     "output_type": "display_data"
    }
   ],
   "source": [
    "close =hisdf['Close']\n",
    "mean = close.rolling(window=10).mean()\n",
    "std = close.rolling(window=10).std()\n",
    "plt.figure(figsize=(15,7))\n",
    "hisdf['Close'].plot(color='g',label='Close')\n",
    "mean.plot(color='r',label='Rolling Mean')\n",
    "std.plot(color='b',label='Rolling STD')\n",
    "plt.legend()\n"
   ]
  },
  {
   "cell_type": "markdown",
   "id": "a9f3e6b8",
   "metadata": {},
   "source": [
    "## Textual Analysis"
   ]
  },
  {
   "cell_type": "code",
   "execution_count": 16,
   "id": "d7d0e3b4",
   "metadata": {},
   "outputs": [],
   "source": [
    "from textblob import TextBlob"
   ]
  },
  {
   "cell_type": "code",
   "execution_count": 19,
   "id": "400ab9ff",
   "metadata": {},
   "outputs": [],
   "source": [
    "def getSubjectivity(text):\n",
    "    return TextBlob(text).sentiment.subjectivity\n",
    "\n",
    "def getPolarity(text):\n",
    "    return TextBlob(text).sentiment.polarity"
   ]
  },
  {
   "cell_type": "code",
   "execution_count": 20,
   "id": "2d3c256e",
   "metadata": {},
   "outputs": [
    {
     "name": "stderr",
     "output_type": "stream",
     "text": [
      "C:\\Users\\Dell\\AppData\\Local\\Temp/ipykernel_6944/3971588201.py:1: SettingWithCopyWarning: \n",
      "A value is trying to be set on a copy of a slice from a DataFrame.\n",
      "Try using .loc[row_indexer,col_indexer] = value instead\n",
      "\n",
      "See the caveats in the documentation: https://pandas.pydata.org/pandas-docs/stable/user_guide/indexing.html#returning-a-view-versus-a-copy\n",
      "  ndf['Subjectivity']=ndf['News'].apply(getSubjectivity)\n",
      "C:\\Users\\Dell\\AppData\\Local\\Temp/ipykernel_6944/3971588201.py:2: SettingWithCopyWarning: \n",
      "A value is trying to be set on a copy of a slice from a DataFrame.\n",
      "Try using .loc[row_indexer,col_indexer] = value instead\n",
      "\n",
      "See the caveats in the documentation: https://pandas.pydata.org/pandas-docs/stable/user_guide/indexing.html#returning-a-view-versus-a-copy\n",
      "  ndf['Polarity']=ndf['News'].apply(getPolarity)\n"
     ]
    },
    {
     "data": {
      "text/html": [
       "<div>\n",
       "<style scoped>\n",
       "    .dataframe tbody tr th:only-of-type {\n",
       "        vertical-align: middle;\n",
       "    }\n",
       "\n",
       "    .dataframe tbody tr th {\n",
       "        vertical-align: top;\n",
       "    }\n",
       "\n",
       "    .dataframe thead th {\n",
       "        text-align: right;\n",
       "    }\n",
       "</style>\n",
       "<table border=\"1\" class=\"dataframe\">\n",
       "  <thead>\n",
       "    <tr style=\"text-align: right;\">\n",
       "      <th></th>\n",
       "      <th>Date</th>\n",
       "      <th>News</th>\n",
       "      <th>Subjectivity</th>\n",
       "      <th>Polarity</th>\n",
       "    </tr>\n",
       "  </thead>\n",
       "  <tbody>\n",
       "    <tr>\n",
       "      <th>0</th>\n",
       "      <td>2001-01-02</td>\n",
       "      <td>Status quo will not be disturbed at Ayodhya; s...</td>\n",
       "      <td>0.282333</td>\n",
       "      <td>0.151333</td>\n",
       "    </tr>\n",
       "    <tr>\n",
       "      <th>1</th>\n",
       "      <td>2001-01-03</td>\n",
       "      <td>Powerless north India gropes in the dark Think...</td>\n",
       "      <td>0.407692</td>\n",
       "      <td>0.088462</td>\n",
       "    </tr>\n",
       "    <tr>\n",
       "      <th>2</th>\n",
       "      <td>2001-01-04</td>\n",
       "      <td>The string that pulled Stephen Hawking to Indi...</td>\n",
       "      <td>0.446847</td>\n",
       "      <td>0.087961</td>\n",
       "    </tr>\n",
       "    <tr>\n",
       "      <th>3</th>\n",
       "      <td>2001-01-05</td>\n",
       "      <td>Light combat craft takes India into club class...</td>\n",
       "      <td>0.476612</td>\n",
       "      <td>0.262024</td>\n",
       "    </tr>\n",
       "    <tr>\n",
       "      <th>4</th>\n",
       "      <td>2001-01-06</td>\n",
       "      <td>Light combat craft takes India into club class...</td>\n",
       "      <td>0.439394</td>\n",
       "      <td>0.248485</td>\n",
       "    </tr>\n",
       "    <tr>\n",
       "      <th>...</th>\n",
       "      <td>...</td>\n",
       "      <td>...</td>\n",
       "      <td>...</td>\n",
       "      <td>...</td>\n",
       "    </tr>\n",
       "    <tr>\n",
       "      <th>7257</th>\n",
       "      <td>2020-12-27</td>\n",
       "      <td>#BigInterview! Dhritiman Chatterjee: Nobody da...</td>\n",
       "      <td>0.395808</td>\n",
       "      <td>0.035886</td>\n",
       "    </tr>\n",
       "    <tr>\n",
       "      <th>7258</th>\n",
       "      <td>2020-12-28</td>\n",
       "      <td>Horoscope Today; 28 December 2020: Check astro...</td>\n",
       "      <td>0.412945</td>\n",
       "      <td>0.070517</td>\n",
       "    </tr>\n",
       "    <tr>\n",
       "      <th>7259</th>\n",
       "      <td>2020-12-29</td>\n",
       "      <td>Man recovers charred remains of 'thief' from h...</td>\n",
       "      <td>0.424021</td>\n",
       "      <td>0.061210</td>\n",
       "    </tr>\n",
       "    <tr>\n",
       "      <th>7260</th>\n",
       "      <td>2020-12-30</td>\n",
       "      <td>Numerology Readings 30 December 2020: Predicti...</td>\n",
       "      <td>0.441660</td>\n",
       "      <td>0.043496</td>\n",
       "    </tr>\n",
       "    <tr>\n",
       "      <th>7261</th>\n",
       "      <td>2020-12-31</td>\n",
       "      <td>Horoscope Today; 31 December 2020: Check astro...</td>\n",
       "      <td>0.406220</td>\n",
       "      <td>0.091373</td>\n",
       "    </tr>\n",
       "  </tbody>\n",
       "</table>\n",
       "<p>7262 rows × 4 columns</p>\n",
       "</div>"
      ],
      "text/plain": [
       "           Date                                               News  \\\n",
       "0    2001-01-02  Status quo will not be disturbed at Ayodhya; s...   \n",
       "1    2001-01-03  Powerless north India gropes in the dark Think...   \n",
       "2    2001-01-04  The string that pulled Stephen Hawking to Indi...   \n",
       "3    2001-01-05  Light combat craft takes India into club class...   \n",
       "4    2001-01-06  Light combat craft takes India into club class...   \n",
       "...         ...                                                ...   \n",
       "7257 2020-12-27  #BigInterview! Dhritiman Chatterjee: Nobody da...   \n",
       "7258 2020-12-28  Horoscope Today; 28 December 2020: Check astro...   \n",
       "7259 2020-12-29  Man recovers charred remains of 'thief' from h...   \n",
       "7260 2020-12-30  Numerology Readings 30 December 2020: Predicti...   \n",
       "7261 2020-12-31  Horoscope Today; 31 December 2020: Check astro...   \n",
       "\n",
       "      Subjectivity  Polarity  \n",
       "0         0.282333  0.151333  \n",
       "1         0.407692  0.088462  \n",
       "2         0.446847  0.087961  \n",
       "3         0.476612  0.262024  \n",
       "4         0.439394  0.248485  \n",
       "...            ...       ...  \n",
       "7257      0.395808  0.035886  \n",
       "7258      0.412945  0.070517  \n",
       "7259      0.424021  0.061210  \n",
       "7260      0.441660  0.043496  \n",
       "7261      0.406220  0.091373  \n",
       "\n",
       "[7262 rows x 4 columns]"
      ]
     },
     "execution_count": 20,
     "metadata": {},
     "output_type": "execute_result"
    }
   ],
   "source": [
    "ndf['Subjectivity']=ndf['News'].apply(getSubjectivity)\n",
    "ndf['Polarity']=ndf['News'].apply(getPolarity)\n",
    "ndf"
   ]
  },
  {
   "cell_type": "code",
   "execution_count": 21,
   "id": "94028dd8",
   "metadata": {},
   "outputs": [],
   "source": [
    "from nltk.sentiment.vader import SentimentIntensityAnalyzer\n",
    "SIA = SentimentIntensityAnalyzer()"
   ]
  },
  {
   "cell_type": "code",
   "execution_count": 22,
   "id": "2c73bf43",
   "metadata": {},
   "outputs": [
    {
     "name": "stderr",
     "output_type": "stream",
     "text": [
      "C:\\Users\\Dell\\AppData\\Local\\Temp/ipykernel_6944/1936893380.py:1: SettingWithCopyWarning: \n",
      "A value is trying to be set on a copy of a slice from a DataFrame.\n",
      "Try using .loc[row_indexer,col_indexer] = value instead\n",
      "\n",
      "See the caveats in the documentation: https://pandas.pydata.org/pandas-docs/stable/user_guide/indexing.html#returning-a-view-versus-a-copy\n",
      "  ndf['Compound']=[SIA.polarity_scores(v)['compound'] for v in ndf['News']]\n",
      "C:\\Users\\Dell\\AppData\\Local\\Temp/ipykernel_6944/1936893380.py:2: SettingWithCopyWarning: \n",
      "A value is trying to be set on a copy of a slice from a DataFrame.\n",
      "Try using .loc[row_indexer,col_indexer] = value instead\n",
      "\n",
      "See the caveats in the documentation: https://pandas.pydata.org/pandas-docs/stable/user_guide/indexing.html#returning-a-view-versus-a-copy\n",
      "  ndf['Negative']=[SIA.polarity_scores(v)['neg'] for v in ndf['News']]\n",
      "C:\\Users\\Dell\\AppData\\Local\\Temp/ipykernel_6944/1936893380.py:3: SettingWithCopyWarning: \n",
      "A value is trying to be set on a copy of a slice from a DataFrame.\n",
      "Try using .loc[row_indexer,col_indexer] = value instead\n",
      "\n",
      "See the caveats in the documentation: https://pandas.pydata.org/pandas-docs/stable/user_guide/indexing.html#returning-a-view-versus-a-copy\n",
      "  ndf['Neutral']=[SIA.polarity_scores(v)['neu'] for v in ndf['News']]\n",
      "C:\\Users\\Dell\\AppData\\Local\\Temp/ipykernel_6944/1936893380.py:4: SettingWithCopyWarning: \n",
      "A value is trying to be set on a copy of a slice from a DataFrame.\n",
      "Try using .loc[row_indexer,col_indexer] = value instead\n",
      "\n",
      "See the caveats in the documentation: https://pandas.pydata.org/pandas-docs/stable/user_guide/indexing.html#returning-a-view-versus-a-copy\n",
      "  ndf['Positive']=[SIA.polarity_scores(v)['pos'] for v in ndf['News']]\n"
     ]
    },
    {
     "data": {
      "text/html": [
       "<div>\n",
       "<style scoped>\n",
       "    .dataframe tbody tr th:only-of-type {\n",
       "        vertical-align: middle;\n",
       "    }\n",
       "\n",
       "    .dataframe tbody tr th {\n",
       "        vertical-align: top;\n",
       "    }\n",
       "\n",
       "    .dataframe thead th {\n",
       "        text-align: right;\n",
       "    }\n",
       "</style>\n",
       "<table border=\"1\" class=\"dataframe\">\n",
       "  <thead>\n",
       "    <tr style=\"text-align: right;\">\n",
       "      <th></th>\n",
       "      <th>Date</th>\n",
       "      <th>News</th>\n",
       "      <th>Subjectivity</th>\n",
       "      <th>Polarity</th>\n",
       "      <th>Compound</th>\n",
       "      <th>Negative</th>\n",
       "      <th>Neutral</th>\n",
       "      <th>Positive</th>\n",
       "    </tr>\n",
       "  </thead>\n",
       "  <tbody>\n",
       "    <tr>\n",
       "      <th>0</th>\n",
       "      <td>2001-01-02</td>\n",
       "      <td>Status quo will not be disturbed at Ayodhya; s...</td>\n",
       "      <td>0.282333</td>\n",
       "      <td>0.151333</td>\n",
       "      <td>-0.9811</td>\n",
       "      <td>0.122</td>\n",
       "      <td>0.807</td>\n",
       "      <td>0.071</td>\n",
       "    </tr>\n",
       "    <tr>\n",
       "      <th>1</th>\n",
       "      <td>2001-01-03</td>\n",
       "      <td>Powerless north India gropes in the dark Think...</td>\n",
       "      <td>0.407692</td>\n",
       "      <td>0.088462</td>\n",
       "      <td>-0.2640</td>\n",
       "      <td>0.122</td>\n",
       "      <td>0.766</td>\n",
       "      <td>0.111</td>\n",
       "    </tr>\n",
       "    <tr>\n",
       "      <th>2</th>\n",
       "      <td>2001-01-04</td>\n",
       "      <td>The string that pulled Stephen Hawking to Indi...</td>\n",
       "      <td>0.446847</td>\n",
       "      <td>0.087961</td>\n",
       "      <td>0.8738</td>\n",
       "      <td>0.100</td>\n",
       "      <td>0.797</td>\n",
       "      <td>0.103</td>\n",
       "    </tr>\n",
       "    <tr>\n",
       "      <th>3</th>\n",
       "      <td>2001-01-05</td>\n",
       "      <td>Light combat craft takes India into club class...</td>\n",
       "      <td>0.476612</td>\n",
       "      <td>0.262024</td>\n",
       "      <td>0.9769</td>\n",
       "      <td>0.124</td>\n",
       "      <td>0.719</td>\n",
       "      <td>0.157</td>\n",
       "    </tr>\n",
       "    <tr>\n",
       "      <th>4</th>\n",
       "      <td>2001-01-06</td>\n",
       "      <td>Light combat craft takes India into club class...</td>\n",
       "      <td>0.439394</td>\n",
       "      <td>0.248485</td>\n",
       "      <td>-0.4215</td>\n",
       "      <td>0.152</td>\n",
       "      <td>0.704</td>\n",
       "      <td>0.143</td>\n",
       "    </tr>\n",
       "    <tr>\n",
       "      <th>...</th>\n",
       "      <td>...</td>\n",
       "      <td>...</td>\n",
       "      <td>...</td>\n",
       "      <td>...</td>\n",
       "      <td>...</td>\n",
       "      <td>...</td>\n",
       "      <td>...</td>\n",
       "      <td>...</td>\n",
       "    </tr>\n",
       "    <tr>\n",
       "      <th>7257</th>\n",
       "      <td>2020-12-27</td>\n",
       "      <td>#BigInterview! Dhritiman Chatterjee: Nobody da...</td>\n",
       "      <td>0.395808</td>\n",
       "      <td>0.035886</td>\n",
       "      <td>-0.9997</td>\n",
       "      <td>0.129</td>\n",
       "      <td>0.793</td>\n",
       "      <td>0.078</td>\n",
       "    </tr>\n",
       "    <tr>\n",
       "      <th>7258</th>\n",
       "      <td>2020-12-28</td>\n",
       "      <td>Horoscope Today; 28 December 2020: Check astro...</td>\n",
       "      <td>0.412945</td>\n",
       "      <td>0.070517</td>\n",
       "      <td>-0.9998</td>\n",
       "      <td>0.138</td>\n",
       "      <td>0.768</td>\n",
       "      <td>0.093</td>\n",
       "    </tr>\n",
       "    <tr>\n",
       "      <th>7259</th>\n",
       "      <td>2020-12-29</td>\n",
       "      <td>Man recovers charred remains of 'thief' from h...</td>\n",
       "      <td>0.424021</td>\n",
       "      <td>0.061210</td>\n",
       "      <td>-0.9999</td>\n",
       "      <td>0.150</td>\n",
       "      <td>0.754</td>\n",
       "      <td>0.096</td>\n",
       "    </tr>\n",
       "    <tr>\n",
       "      <th>7260</th>\n",
       "      <td>2020-12-30</td>\n",
       "      <td>Numerology Readings 30 December 2020: Predicti...</td>\n",
       "      <td>0.441660</td>\n",
       "      <td>0.043496</td>\n",
       "      <td>-0.9999</td>\n",
       "      <td>0.144</td>\n",
       "      <td>0.775</td>\n",
       "      <td>0.081</td>\n",
       "    </tr>\n",
       "    <tr>\n",
       "      <th>7261</th>\n",
       "      <td>2020-12-31</td>\n",
       "      <td>Horoscope Today; 31 December 2020: Check astro...</td>\n",
       "      <td>0.406220</td>\n",
       "      <td>0.091373</td>\n",
       "      <td>-0.9998</td>\n",
       "      <td>0.136</td>\n",
       "      <td>0.765</td>\n",
       "      <td>0.100</td>\n",
       "    </tr>\n",
       "  </tbody>\n",
       "</table>\n",
       "<p>7262 rows × 8 columns</p>\n",
       "</div>"
      ],
      "text/plain": [
       "           Date                                               News  \\\n",
       "0    2001-01-02  Status quo will not be disturbed at Ayodhya; s...   \n",
       "1    2001-01-03  Powerless north India gropes in the dark Think...   \n",
       "2    2001-01-04  The string that pulled Stephen Hawking to Indi...   \n",
       "3    2001-01-05  Light combat craft takes India into club class...   \n",
       "4    2001-01-06  Light combat craft takes India into club class...   \n",
       "...         ...                                                ...   \n",
       "7257 2020-12-27  #BigInterview! Dhritiman Chatterjee: Nobody da...   \n",
       "7258 2020-12-28  Horoscope Today; 28 December 2020: Check astro...   \n",
       "7259 2020-12-29  Man recovers charred remains of 'thief' from h...   \n",
       "7260 2020-12-30  Numerology Readings 30 December 2020: Predicti...   \n",
       "7261 2020-12-31  Horoscope Today; 31 December 2020: Check astro...   \n",
       "\n",
       "      Subjectivity  Polarity  Compound  Negative  Neutral  Positive  \n",
       "0         0.282333  0.151333   -0.9811     0.122    0.807     0.071  \n",
       "1         0.407692  0.088462   -0.2640     0.122    0.766     0.111  \n",
       "2         0.446847  0.087961    0.8738     0.100    0.797     0.103  \n",
       "3         0.476612  0.262024    0.9769     0.124    0.719     0.157  \n",
       "4         0.439394  0.248485   -0.4215     0.152    0.704     0.143  \n",
       "...            ...       ...       ...       ...      ...       ...  \n",
       "7257      0.395808  0.035886   -0.9997     0.129    0.793     0.078  \n",
       "7258      0.412945  0.070517   -0.9998     0.138    0.768     0.093  \n",
       "7259      0.424021  0.061210   -0.9999     0.150    0.754     0.096  \n",
       "7260      0.441660  0.043496   -0.9999     0.144    0.775     0.081  \n",
       "7261      0.406220  0.091373   -0.9998     0.136    0.765     0.100  \n",
       "\n",
       "[7262 rows x 8 columns]"
      ]
     },
     "execution_count": 22,
     "metadata": {},
     "output_type": "execute_result"
    }
   ],
   "source": [
    "ndf['Compound']=[SIA.polarity_scores(v)['compound'] for v in ndf['News']]\n",
    "ndf['Negative']=[SIA.polarity_scores(v)['neg'] for v in ndf['News']]\n",
    "ndf['Neutral']=[SIA.polarity_scores(v)['neu'] for v in ndf['News']]\n",
    "ndf['Positive']=[SIA.polarity_scores(v)['pos'] for v in ndf['News']]\n",
    "ndf"
   ]
  },
  {
   "cell_type": "markdown",
   "id": "937d80e6",
   "metadata": {},
   "source": [
    "# Merge Historical and Textual Data in one"
   ]
  },
  {
   "cell_type": "code",
   "execution_count": 23,
   "id": "94e726e9",
   "metadata": {},
   "outputs": [
    {
     "data": {
      "text/html": [
       "<div>\n",
       "<style scoped>\n",
       "    .dataframe tbody tr th:only-of-type {\n",
       "        vertical-align: middle;\n",
       "    }\n",
       "\n",
       "    .dataframe tbody tr th {\n",
       "        vertical-align: top;\n",
       "    }\n",
       "\n",
       "    .dataframe thead th {\n",
       "        text-align: right;\n",
       "    }\n",
       "</style>\n",
       "<table border=\"1\" class=\"dataframe\">\n",
       "  <thead>\n",
       "    <tr style=\"text-align: right;\">\n",
       "      <th></th>\n",
       "      <th>Date</th>\n",
       "      <th>Open</th>\n",
       "      <th>High</th>\n",
       "      <th>Low</th>\n",
       "      <th>Close</th>\n",
       "      <th>Volume</th>\n",
       "      <th>News</th>\n",
       "      <th>Subjectivity</th>\n",
       "      <th>Polarity</th>\n",
       "      <th>Compound</th>\n",
       "      <th>Negative</th>\n",
       "      <th>Neutral</th>\n",
       "      <th>Positive</th>\n",
       "    </tr>\n",
       "  </thead>\n",
       "  <tbody>\n",
       "    <tr>\n",
       "      <th>0</th>\n",
       "      <td>2019-12-17</td>\n",
       "      <td>41052.359375</td>\n",
       "      <td>41401.648438</td>\n",
       "      <td>41005.179688</td>\n",
       "      <td>41352.171875</td>\n",
       "      <td>19000.0</td>\n",
       "      <td>After Jagannath Temple; Puri beach devpt plan ...</td>\n",
       "      <td>0.361641</td>\n",
       "      <td>0.035806</td>\n",
       "      <td>-1.0000</td>\n",
       "      <td>0.195</td>\n",
       "      <td>0.728</td>\n",
       "      <td>0.076</td>\n",
       "    </tr>\n",
       "    <tr>\n",
       "      <th>1</th>\n",
       "      <td>2019-12-18</td>\n",
       "      <td>41442.750000</td>\n",
       "      <td>41614.769531</td>\n",
       "      <td>41358.468750</td>\n",
       "      <td>41558.570313</td>\n",
       "      <td>24300.0</td>\n",
       "      <td>What is Citizenship (Amendment) Bill 2019: All...</td>\n",
       "      <td>0.399387</td>\n",
       "      <td>0.037550</td>\n",
       "      <td>-0.9999</td>\n",
       "      <td>0.159</td>\n",
       "      <td>0.761</td>\n",
       "      <td>0.080</td>\n",
       "    </tr>\n",
       "    <tr>\n",
       "      <th>2</th>\n",
       "      <td>2019-12-19</td>\n",
       "      <td>41571.820313</td>\n",
       "      <td>41719.289063</td>\n",
       "      <td>41456.398438</td>\n",
       "      <td>41673.921875</td>\n",
       "      <td>33300.0</td>\n",
       "      <td>Only 61% of CCA covered after revamp of canals...</td>\n",
       "      <td>0.375940</td>\n",
       "      <td>0.028690</td>\n",
       "      <td>-0.9998</td>\n",
       "      <td>0.129</td>\n",
       "      <td>0.804</td>\n",
       "      <td>0.067</td>\n",
       "    </tr>\n",
       "    <tr>\n",
       "      <th>3</th>\n",
       "      <td>2019-12-20</td>\n",
       "      <td>41746.199219</td>\n",
       "      <td>41809.960938</td>\n",
       "      <td>41636.109375</td>\n",
       "      <td>41681.539063</td>\n",
       "      <td>33600.0</td>\n",
       "      <td>I'm done playing the good girl; I want to be a...</td>\n",
       "      <td>0.374114</td>\n",
       "      <td>0.041297</td>\n",
       "      <td>-0.9999</td>\n",
       "      <td>0.168</td>\n",
       "      <td>0.746</td>\n",
       "      <td>0.086</td>\n",
       "    </tr>\n",
       "    <tr>\n",
       "      <th>4</th>\n",
       "      <td>2019-12-23</td>\n",
       "      <td>41548.261719</td>\n",
       "      <td>41701.621094</td>\n",
       "      <td>41474.609375</td>\n",
       "      <td>41642.660156</td>\n",
       "      <td>6200.0</td>\n",
       "      <td>Weekly Horoscope; December 22-28: Check predic...</td>\n",
       "      <td>0.404214</td>\n",
       "      <td>0.032329</td>\n",
       "      <td>-0.9999</td>\n",
       "      <td>0.153</td>\n",
       "      <td>0.760</td>\n",
       "      <td>0.088</td>\n",
       "    </tr>\n",
       "    <tr>\n",
       "      <th>...</th>\n",
       "      <td>...</td>\n",
       "      <td>...</td>\n",
       "      <td>...</td>\n",
       "      <td>...</td>\n",
       "      <td>...</td>\n",
       "      <td>...</td>\n",
       "      <td>...</td>\n",
       "      <td>...</td>\n",
       "      <td>...</td>\n",
       "      <td>...</td>\n",
       "      <td>...</td>\n",
       "      <td>...</td>\n",
       "      <td>...</td>\n",
       "    </tr>\n",
       "    <tr>\n",
       "      <th>247</th>\n",
       "      <td>2020-12-11</td>\n",
       "      <td>46060.320313</td>\n",
       "      <td>46309.628906</td>\n",
       "      <td>45706.218750</td>\n",
       "      <td>46099.011719</td>\n",
       "      <td>26300.0</td>\n",
       "      <td>Ways to get you in the mood for sex when you'r...</td>\n",
       "      <td>0.383091</td>\n",
       "      <td>0.054693</td>\n",
       "      <td>-0.9999</td>\n",
       "      <td>0.162</td>\n",
       "      <td>0.751</td>\n",
       "      <td>0.088</td>\n",
       "    </tr>\n",
       "    <tr>\n",
       "      <th>248</th>\n",
       "      <td>2020-12-14</td>\n",
       "      <td>46284.699219</td>\n",
       "      <td>46373.339844</td>\n",
       "      <td>45951.531250</td>\n",
       "      <td>46253.460938</td>\n",
       "      <td>18400.0</td>\n",
       "      <td>No threat from Covid claims to balance sheets ...</td>\n",
       "      <td>0.386875</td>\n",
       "      <td>0.072025</td>\n",
       "      <td>-0.9996</td>\n",
       "      <td>0.125</td>\n",
       "      <td>0.783</td>\n",
       "      <td>0.092</td>\n",
       "    </tr>\n",
       "    <tr>\n",
       "      <th>249</th>\n",
       "      <td>2020-12-15</td>\n",
       "      <td>46287.390625</td>\n",
       "      <td>46350.300781</td>\n",
       "      <td>45841.671875</td>\n",
       "      <td>46263.171875</td>\n",
       "      <td>16400.0</td>\n",
       "      <td>1;147 RT-PCR tests in a day; only 3 found +ve ...</td>\n",
       "      <td>0.376347</td>\n",
       "      <td>0.041861</td>\n",
       "      <td>-0.9999</td>\n",
       "      <td>0.141</td>\n",
       "      <td>0.775</td>\n",
       "      <td>0.083</td>\n",
       "    </tr>\n",
       "    <tr>\n",
       "      <th>250</th>\n",
       "      <td>2020-12-16</td>\n",
       "      <td>46573.308594</td>\n",
       "      <td>46704.968750</td>\n",
       "      <td>46402.199219</td>\n",
       "      <td>46666.460938</td>\n",
       "      <td>13100.0</td>\n",
       "      <td>Asmita Sood's favourite holiday destinations a...</td>\n",
       "      <td>0.429164</td>\n",
       "      <td>0.066554</td>\n",
       "      <td>-0.9997</td>\n",
       "      <td>0.120</td>\n",
       "      <td>0.800</td>\n",
       "      <td>0.081</td>\n",
       "    </tr>\n",
       "    <tr>\n",
       "      <th>251</th>\n",
       "      <td>2020-12-17</td>\n",
       "      <td>46774.320313</td>\n",
       "      <td>46992.570313</td>\n",
       "      <td>46627.601563</td>\n",
       "      <td>46890.339844</td>\n",
       "      <td>0.0</td>\n",
       "      <td>Horoscope Today; 17 December 2020: Check astro...</td>\n",
       "      <td>0.370735</td>\n",
       "      <td>0.045390</td>\n",
       "      <td>-0.9998</td>\n",
       "      <td>0.128</td>\n",
       "      <td>0.792</td>\n",
       "      <td>0.080</td>\n",
       "    </tr>\n",
       "  </tbody>\n",
       "</table>\n",
       "<p>252 rows × 13 columns</p>\n",
       "</div>"
      ],
      "text/plain": [
       "          Date          Open          High           Low         Close  \\\n",
       "0   2019-12-17  41052.359375  41401.648438  41005.179688  41352.171875   \n",
       "1   2019-12-18  41442.750000  41614.769531  41358.468750  41558.570313   \n",
       "2   2019-12-19  41571.820313  41719.289063  41456.398438  41673.921875   \n",
       "3   2019-12-20  41746.199219  41809.960938  41636.109375  41681.539063   \n",
       "4   2019-12-23  41548.261719  41701.621094  41474.609375  41642.660156   \n",
       "..         ...           ...           ...           ...           ...   \n",
       "247 2020-12-11  46060.320313  46309.628906  45706.218750  46099.011719   \n",
       "248 2020-12-14  46284.699219  46373.339844  45951.531250  46253.460938   \n",
       "249 2020-12-15  46287.390625  46350.300781  45841.671875  46263.171875   \n",
       "250 2020-12-16  46573.308594  46704.968750  46402.199219  46666.460938   \n",
       "251 2020-12-17  46774.320313  46992.570313  46627.601563  46890.339844   \n",
       "\n",
       "      Volume                                               News  Subjectivity  \\\n",
       "0    19000.0  After Jagannath Temple; Puri beach devpt plan ...      0.361641   \n",
       "1    24300.0  What is Citizenship (Amendment) Bill 2019: All...      0.399387   \n",
       "2    33300.0  Only 61% of CCA covered after revamp of canals...      0.375940   \n",
       "3    33600.0  I'm done playing the good girl; I want to be a...      0.374114   \n",
       "4     6200.0  Weekly Horoscope; December 22-28: Check predic...      0.404214   \n",
       "..       ...                                                ...           ...   \n",
       "247  26300.0  Ways to get you in the mood for sex when you'r...      0.383091   \n",
       "248  18400.0  No threat from Covid claims to balance sheets ...      0.386875   \n",
       "249  16400.0  1;147 RT-PCR tests in a day; only 3 found +ve ...      0.376347   \n",
       "250  13100.0  Asmita Sood's favourite holiday destinations a...      0.429164   \n",
       "251      0.0  Horoscope Today; 17 December 2020: Check astro...      0.370735   \n",
       "\n",
       "     Polarity  Compound  Negative  Neutral  Positive  \n",
       "0    0.035806   -1.0000     0.195    0.728     0.076  \n",
       "1    0.037550   -0.9999     0.159    0.761     0.080  \n",
       "2    0.028690   -0.9998     0.129    0.804     0.067  \n",
       "3    0.041297   -0.9999     0.168    0.746     0.086  \n",
       "4    0.032329   -0.9999     0.153    0.760     0.088  \n",
       "..        ...       ...       ...      ...       ...  \n",
       "247  0.054693   -0.9999     0.162    0.751     0.088  \n",
       "248  0.072025   -0.9996     0.125    0.783     0.092  \n",
       "249  0.041861   -0.9999     0.141    0.775     0.083  \n",
       "250  0.066554   -0.9997     0.120    0.800     0.081  \n",
       "251  0.045390   -0.9998     0.128    0.792     0.080  \n",
       "\n",
       "[252 rows x 13 columns]"
      ]
     },
     "execution_count": 23,
     "metadata": {},
     "output_type": "execute_result"
    }
   ],
   "source": [
    "df_merge = pd.merge(hisdf,ndf,how='inner',on='Date')\n",
    "df_merge"
   ]
  },
  {
   "cell_type": "code",
   "execution_count": 25,
   "id": "59e34b17",
   "metadata": {},
   "outputs": [
    {
     "data": {
      "text/html": [
       "<div>\n",
       "<style scoped>\n",
       "    .dataframe tbody tr th:only-of-type {\n",
       "        vertical-align: middle;\n",
       "    }\n",
       "\n",
       "    .dataframe tbody tr th {\n",
       "        vertical-align: top;\n",
       "    }\n",
       "\n",
       "    .dataframe thead th {\n",
       "        text-align: right;\n",
       "    }\n",
       "</style>\n",
       "<table border=\"1\" class=\"dataframe\">\n",
       "  <thead>\n",
       "    <tr style=\"text-align: right;\">\n",
       "      <th></th>\n",
       "      <th>Close</th>\n",
       "      <th>Subjectivity</th>\n",
       "      <th>Polarity</th>\n",
       "      <th>Compound</th>\n",
       "      <th>Negative</th>\n",
       "      <th>Neutral</th>\n",
       "      <th>Positive</th>\n",
       "    </tr>\n",
       "  </thead>\n",
       "  <tbody>\n",
       "    <tr>\n",
       "      <th>0</th>\n",
       "      <td>41352.171875</td>\n",
       "      <td>0.361641</td>\n",
       "      <td>0.035806</td>\n",
       "      <td>-1.0000</td>\n",
       "      <td>0.195</td>\n",
       "      <td>0.728</td>\n",
       "      <td>0.076</td>\n",
       "    </tr>\n",
       "    <tr>\n",
       "      <th>1</th>\n",
       "      <td>41558.570313</td>\n",
       "      <td>0.399387</td>\n",
       "      <td>0.037550</td>\n",
       "      <td>-0.9999</td>\n",
       "      <td>0.159</td>\n",
       "      <td>0.761</td>\n",
       "      <td>0.080</td>\n",
       "    </tr>\n",
       "    <tr>\n",
       "      <th>2</th>\n",
       "      <td>41673.921875</td>\n",
       "      <td>0.375940</td>\n",
       "      <td>0.028690</td>\n",
       "      <td>-0.9998</td>\n",
       "      <td>0.129</td>\n",
       "      <td>0.804</td>\n",
       "      <td>0.067</td>\n",
       "    </tr>\n",
       "    <tr>\n",
       "      <th>3</th>\n",
       "      <td>41681.539063</td>\n",
       "      <td>0.374114</td>\n",
       "      <td>0.041297</td>\n",
       "      <td>-0.9999</td>\n",
       "      <td>0.168</td>\n",
       "      <td>0.746</td>\n",
       "      <td>0.086</td>\n",
       "    </tr>\n",
       "    <tr>\n",
       "      <th>4</th>\n",
       "      <td>41642.660156</td>\n",
       "      <td>0.404214</td>\n",
       "      <td>0.032329</td>\n",
       "      <td>-0.9999</td>\n",
       "      <td>0.153</td>\n",
       "      <td>0.760</td>\n",
       "      <td>0.088</td>\n",
       "    </tr>\n",
       "    <tr>\n",
       "      <th>...</th>\n",
       "      <td>...</td>\n",
       "      <td>...</td>\n",
       "      <td>...</td>\n",
       "      <td>...</td>\n",
       "      <td>...</td>\n",
       "      <td>...</td>\n",
       "      <td>...</td>\n",
       "    </tr>\n",
       "    <tr>\n",
       "      <th>247</th>\n",
       "      <td>46099.011719</td>\n",
       "      <td>0.383091</td>\n",
       "      <td>0.054693</td>\n",
       "      <td>-0.9999</td>\n",
       "      <td>0.162</td>\n",
       "      <td>0.751</td>\n",
       "      <td>0.088</td>\n",
       "    </tr>\n",
       "    <tr>\n",
       "      <th>248</th>\n",
       "      <td>46253.460938</td>\n",
       "      <td>0.386875</td>\n",
       "      <td>0.072025</td>\n",
       "      <td>-0.9996</td>\n",
       "      <td>0.125</td>\n",
       "      <td>0.783</td>\n",
       "      <td>0.092</td>\n",
       "    </tr>\n",
       "    <tr>\n",
       "      <th>249</th>\n",
       "      <td>46263.171875</td>\n",
       "      <td>0.376347</td>\n",
       "      <td>0.041861</td>\n",
       "      <td>-0.9999</td>\n",
       "      <td>0.141</td>\n",
       "      <td>0.775</td>\n",
       "      <td>0.083</td>\n",
       "    </tr>\n",
       "    <tr>\n",
       "      <th>250</th>\n",
       "      <td>46666.460938</td>\n",
       "      <td>0.429164</td>\n",
       "      <td>0.066554</td>\n",
       "      <td>-0.9997</td>\n",
       "      <td>0.120</td>\n",
       "      <td>0.800</td>\n",
       "      <td>0.081</td>\n",
       "    </tr>\n",
       "    <tr>\n",
       "      <th>251</th>\n",
       "      <td>46890.339844</td>\n",
       "      <td>0.370735</td>\n",
       "      <td>0.045390</td>\n",
       "      <td>-0.9998</td>\n",
       "      <td>0.128</td>\n",
       "      <td>0.792</td>\n",
       "      <td>0.080</td>\n",
       "    </tr>\n",
       "  </tbody>\n",
       "</table>\n",
       "<p>252 rows × 7 columns</p>\n",
       "</div>"
      ],
      "text/plain": [
       "            Close  Subjectivity  Polarity  Compound  Negative  Neutral  \\\n",
       "0    41352.171875      0.361641  0.035806   -1.0000     0.195    0.728   \n",
       "1    41558.570313      0.399387  0.037550   -0.9999     0.159    0.761   \n",
       "2    41673.921875      0.375940  0.028690   -0.9998     0.129    0.804   \n",
       "3    41681.539063      0.374114  0.041297   -0.9999     0.168    0.746   \n",
       "4    41642.660156      0.404214  0.032329   -0.9999     0.153    0.760   \n",
       "..            ...           ...       ...       ...       ...      ...   \n",
       "247  46099.011719      0.383091  0.054693   -0.9999     0.162    0.751   \n",
       "248  46253.460938      0.386875  0.072025   -0.9996     0.125    0.783   \n",
       "249  46263.171875      0.376347  0.041861   -0.9999     0.141    0.775   \n",
       "250  46666.460938      0.429164  0.066554   -0.9997     0.120    0.800   \n",
       "251  46890.339844      0.370735  0.045390   -0.9998     0.128    0.792   \n",
       "\n",
       "     Positive  \n",
       "0       0.076  \n",
       "1       0.080  \n",
       "2       0.067  \n",
       "3       0.086  \n",
       "4       0.088  \n",
       "..        ...  \n",
       "247     0.088  \n",
       "248     0.092  \n",
       "249     0.083  \n",
       "250     0.081  \n",
       "251     0.080  \n",
       "\n",
       "[252 rows x 7 columns]"
      ]
     },
     "execution_count": 25,
     "metadata": {},
     "output_type": "execute_result"
    }
   ],
   "source": [
    "## selecting features for model training\n",
    "df_merge1 = df_merge[['Close','Subjectivity','Polarity','Compound','Negative','Neutral','Positive']]\n",
    "df_merge1"
   ]
  },
  {
   "cell_type": "markdown",
   "id": "04b22d2d",
   "metadata": {},
   "source": [
    "### Normalize data"
   ]
  },
  {
   "cell_type": "code",
   "execution_count": 29,
   "id": "0af2b45e",
   "metadata": {},
   "outputs": [],
   "source": [
    "from sklearn.preprocessing import MinMaxScaler\n",
    "from sklearn.metrics import mean_squared_error\n",
    "from sklearn.ensemble import RandomForestRegressor"
   ]
  },
  {
   "cell_type": "code",
   "execution_count": 31,
   "id": "28dc5c83",
   "metadata": {},
   "outputs": [
    {
     "data": {
      "text/html": [
       "<div>\n",
       "<style scoped>\n",
       "    .dataframe tbody tr th:only-of-type {\n",
       "        vertical-align: middle;\n",
       "    }\n",
       "\n",
       "    .dataframe tbody tr th {\n",
       "        vertical-align: top;\n",
       "    }\n",
       "\n",
       "    .dataframe thead th {\n",
       "        text-align: right;\n",
       "    }\n",
       "</style>\n",
       "<table border=\"1\" class=\"dataframe\">\n",
       "  <thead>\n",
       "    <tr style=\"text-align: right;\">\n",
       "      <th></th>\n",
       "      <th>Close</th>\n",
       "      <th>Subjectivity</th>\n",
       "      <th>Polarity</th>\n",
       "      <th>Compound</th>\n",
       "      <th>Negative</th>\n",
       "      <th>Neutral</th>\n",
       "      <th>Positive</th>\n",
       "    </tr>\n",
       "  </thead>\n",
       "  <tbody>\n",
       "    <tr>\n",
       "      <th>0</th>\n",
       "      <td>0.735131</td>\n",
       "      <td>0.179412</td>\n",
       "      <td>0.282922</td>\n",
       "      <td>0.00000</td>\n",
       "      <td>0.857143</td>\n",
       "      <td>0.088889</td>\n",
       "      <td>0.2875</td>\n",
       "    </tr>\n",
       "    <tr>\n",
       "      <th>1</th>\n",
       "      <td>0.745002</td>\n",
       "      <td>0.486673</td>\n",
       "      <td>0.298534</td>\n",
       "      <td>0.00005</td>\n",
       "      <td>0.571429</td>\n",
       "      <td>0.333333</td>\n",
       "      <td>0.3375</td>\n",
       "    </tr>\n",
       "    <tr>\n",
       "      <th>2</th>\n",
       "      <td>0.750519</td>\n",
       "      <td>0.295814</td>\n",
       "      <td>0.219221</td>\n",
       "      <td>0.00010</td>\n",
       "      <td>0.333333</td>\n",
       "      <td>0.651852</td>\n",
       "      <td>0.1750</td>\n",
       "    </tr>\n",
       "    <tr>\n",
       "      <th>3</th>\n",
       "      <td>0.750884</td>\n",
       "      <td>0.280945</td>\n",
       "      <td>0.332077</td>\n",
       "      <td>0.00005</td>\n",
       "      <td>0.642857</td>\n",
       "      <td>0.222222</td>\n",
       "      <td>0.4125</td>\n",
       "    </tr>\n",
       "    <tr>\n",
       "      <th>4</th>\n",
       "      <td>0.749024</td>\n",
       "      <td>0.525962</td>\n",
       "      <td>0.251798</td>\n",
       "      <td>0.00005</td>\n",
       "      <td>0.523810</td>\n",
       "      <td>0.325926</td>\n",
       "      <td>0.4375</td>\n",
       "    </tr>\n",
       "  </tbody>\n",
       "</table>\n",
       "</div>"
      ],
      "text/plain": [
       "      Close  Subjectivity  Polarity  Compound  Negative   Neutral  Positive\n",
       "0  0.735131      0.179412  0.282922   0.00000  0.857143  0.088889    0.2875\n",
       "1  0.745002      0.486673  0.298534   0.00005  0.571429  0.333333    0.3375\n",
       "2  0.750519      0.295814  0.219221   0.00010  0.333333  0.651852    0.1750\n",
       "3  0.750884      0.280945  0.332077   0.00005  0.642857  0.222222    0.4125\n",
       "4  0.749024      0.525962  0.251798   0.00005  0.523810  0.325926    0.4375"
      ]
     },
     "execution_count": 31,
     "metadata": {},
     "output_type": "execute_result"
    }
   ],
   "source": [
    "scaler = MinMaxScaler()\n",
    "df=scaler.fit_transform(df_merge1)\n",
    "df_scaled=pd.DataFrame(df,columns=df_merge1.columns)\n",
    "df_scaled.head()"
   ]
  },
  {
   "cell_type": "code",
   "execution_count": 57,
   "id": "176c956c",
   "metadata": {},
   "outputs": [],
   "source": [
    "md=df_scaled['Close'].median()\n",
    "df_scaled['Close'].fillna(value=md,inplace=True)"
   ]
  },
  {
   "cell_type": "code",
   "execution_count": 59,
   "id": "318be8d9",
   "metadata": {},
   "outputs": [
    {
     "data": {
      "text/plain": [
       "0"
      ]
     },
     "execution_count": 59,
     "metadata": {},
     "output_type": "execute_result"
    }
   ],
   "source": [
    "df_scaled['Close'].isnull().sum()"
   ]
  },
  {
   "cell_type": "code",
   "execution_count": 60,
   "id": "4c58fcc8",
   "metadata": {},
   "outputs": [],
   "source": [
    "X=df_scaled.drop('Close',axis=1)\n",
    "y=df_scaled['Close']"
   ]
  },
  {
   "cell_type": "code",
   "execution_count": 61,
   "id": "feddad71",
   "metadata": {},
   "outputs": [
    {
     "name": "stdout",
     "output_type": "stream",
     "text": [
      "(252, 6) (252,)\n"
     ]
    }
   ],
   "source": [
    "print(X.shape,y.shape)"
   ]
  },
  {
   "cell_type": "code",
   "execution_count": 62,
   "id": "92a31d15",
   "metadata": {},
   "outputs": [],
   "source": [
    "from sklearn.model_selection import train_test_split"
   ]
  },
  {
   "cell_type": "code",
   "execution_count": 63,
   "id": "90ca3f6a",
   "metadata": {},
   "outputs": [
    {
     "data": {
      "text/plain": [
       "(201, 6)"
      ]
     },
     "execution_count": 63,
     "metadata": {},
     "output_type": "execute_result"
    }
   ],
   "source": [
    "X_train,X_test,y_train,y_test = train_test_split(X,y,test_size = 0.2,random_state=0)\n",
    "X_train.shape"
   ]
  },
  {
   "cell_type": "code",
   "execution_count": 64,
   "id": "2695e7de",
   "metadata": {},
   "outputs": [
    {
     "data": {
      "text/plain": [
       "0"
      ]
     },
     "execution_count": 64,
     "metadata": {},
     "output_type": "execute_result"
    }
   ],
   "source": [
    "y_train.isnull().sum()"
   ]
  },
  {
   "cell_type": "code",
   "execution_count": 65,
   "id": "d5f0edcb",
   "metadata": {},
   "outputs": [],
   "source": [
    "rf = RandomForestRegressor()\n",
    "rf.fit(X_train,y_train)\n",
    "pred = rf.predict(X_test)"
   ]
  },
  {
   "cell_type": "code",
   "execution_count": 70,
   "id": "88da4518",
   "metadata": {},
   "outputs": [
    {
     "name": "stdout",
     "output_type": "stream",
     "text": [
      "Mean Squared Error 0.05201247006059317\n"
     ]
    }
   ],
   "source": [
    "print('Mean Squared Error',mean_squared_error(y_test,pred))"
   ]
  },
  {
   "cell_type": "code",
   "execution_count": 72,
   "id": "0baadf2e",
   "metadata": {},
   "outputs": [
    {
     "name": "stdout",
     "output_type": "stream",
     "text": [
      "Collecting xgboost\n",
      "  Using cached xgboost-1.4.2-py3-none-win_amd64.whl (97.8 MB)\n",
      "Requirement already satisfied: scipy in c:\\users\\dell\\anaconda3\\envs\\grip- the sparks foundation\\lib\\site-packages (from xgboost) (1.7.1)\n",
      "Requirement already satisfied: numpy in c:\\users\\dell\\anaconda3\\envs\\grip- the sparks foundation\\lib\\site-packages (from xgboost) (1.19.5)\n",
      "Installing collected packages: xgboost\n",
      "Successfully installed xgboost-1.4.2\n"
     ]
    }
   ],
   "source": [
    "!pip install xgboost"
   ]
  },
  {
   "cell_type": "code",
   "execution_count": 73,
   "id": "35a0c191",
   "metadata": {},
   "outputs": [],
   "source": [
    "import xgboost"
   ]
  },
  {
   "cell_type": "code",
   "execution_count": 74,
   "id": "77a8d329",
   "metadata": {},
   "outputs": [
    {
     "data": {
      "text/plain": [
       "XGBRegressor(base_score=0.5, booster='gbtree', colsample_bylevel=1,\n",
       "             colsample_bynode=1, colsample_bytree=1, gamma=0, gpu_id=-1,\n",
       "             importance_type='gain', interaction_constraints='',\n",
       "             learning_rate=0.300000012, max_delta_step=0, max_depth=6,\n",
       "             min_child_weight=1, missing=nan, monotone_constraints='()',\n",
       "             n_estimators=100, n_jobs=4, num_parallel_tree=1, random_state=0,\n",
       "             reg_alpha=0, reg_lambda=1, scale_pos_weight=1, subsample=1,\n",
       "             tree_method='exact', validate_parameters=1, verbosity=None)"
      ]
     },
     "execution_count": 74,
     "metadata": {},
     "output_type": "execute_result"
    }
   ],
   "source": [
    "xgb = xgboost.XGBRegressor()\n",
    "xgb.fit(X_train,y_train)"
   ]
  },
  {
   "cell_type": "code",
   "execution_count": 75,
   "id": "7993313a",
   "metadata": {},
   "outputs": [
    {
     "name": "stdout",
     "output_type": "stream",
     "text": [
      "Mean Squared Error 0.05869666145298414\n"
     ]
    }
   ],
   "source": [
    "pred2=xgb.predict(X_test)\n",
    "print('Mean Squared Error',mean_squared_error(y_test,pred2))"
   ]
  },
  {
   "cell_type": "code",
   "execution_count": 76,
   "id": "ee524850",
   "metadata": {},
   "outputs": [],
   "source": [
    "from sklearn.ensemble import AdaBoostRegressor"
   ]
  },
  {
   "cell_type": "code",
   "execution_count": 77,
   "id": "75488970",
   "metadata": {},
   "outputs": [
    {
     "name": "stdout",
     "output_type": "stream",
     "text": [
      "Mean Squared Error 0.05140675587506454\n"
     ]
    }
   ],
   "source": [
    "ada = AdaBoostRegressor()\n",
    "ada.fit(X_train,y_train)\n",
    "pred3 = ada.predict(X_test)\n",
    "print('Mean Squared Error',mean_squared_error(y_test,pred3))"
   ]
  },
  {
   "cell_type": "markdown",
   "id": "4c7e123e",
   "metadata": {},
   "source": [
    "## Conclusion \n",
    "### Among above three algorithm AdaBoostRegressor gives least error"
   ]
  },
  {
   "cell_type": "markdown",
   "id": "7c46c420",
   "metadata": {},
   "source": [
    "## Mean Squared Error\n",
    "### RandomForest = 0.0520\n",
    "### XGBoost = 0.058\n",
    "### AdaBoost = 0.0514"
   ]
  },
  {
   "cell_type": "code",
   "execution_count": null,
   "id": "915b0c94",
   "metadata": {},
   "outputs": [],
   "source": []
  }
 ],
 "metadata": {
  "kernelspec": {
   "display_name": "Python 3 (ipykernel)",
   "language": "python",
   "name": "python3"
  },
  "language_info": {
   "codemirror_mode": {
    "name": "ipython",
    "version": 3
   },
   "file_extension": ".py",
   "mimetype": "text/x-python",
   "name": "python",
   "nbconvert_exporter": "python",
   "pygments_lexer": "ipython3",
   "version": "3.9.7"
  }
 },
 "nbformat": 4,
 "nbformat_minor": 5
}
